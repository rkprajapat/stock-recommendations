{
 "cells": [
  {
   "cell_type": "code",
   "execution_count": 1,
   "metadata": {},
   "outputs": [],
   "source": [
    "# import libraries for stock analysis\n",
    "import pandas as pd\n",
    "import holidays\n",
    "import matplotlib.pyplot as plt\n",
    "import scienceplots\n",
    "from datetime import date, datetime, timedelta\n",
    "import os\n",
    "from IPython.display import display\n",
    "import numpy as np\n",
    "\n",
    "\n",
    "\n",
    "from nsetools import Nse\n",
    "nse = Nse()\n",
    "\n",
    "from nsepy import get_history\n",
    "\n",
    "pd.set_option('display.max_columns',None)\n",
    "pd.set_option('display.max_rows',None)\n",
    "pd.set_option('display.width',1000)\n",
    "pd.set_option('display.colheader_justify','center')\n",
    "pd.set_option('display.precision',3)\n",
    "\n",
    "plt.style.use('science')\n",
    "pd.options.plotting.backend = \"plotly\"\n",
    "\n",
    "%matplotlib widget\n",
    "%matplotlib inline\n",
    "\n",
    "import warnings\n",
    "warnings.filterwarnings(\"ignore\")"
   ]
  },
  {
   "cell_type": "code",
   "execution_count": 2,
   "metadata": {},
   "outputs": [
    {
     "name": "stdout",
     "output_type": "stream",
     "text": [
      "http://127.0.0.1:8787/status\n"
     ]
    }
   ],
   "source": [
    "# import libraries for dask\n",
    "from dask.distributed import Client, LocalCluster\n",
    "import dask.dataframe as dd\n",
    "from dask.delayed import delayed\n",
    "\n",
    "# create dask local cluster\n",
    "cluster = LocalCluster(n_workers=4, threads_per_worker=1, memory_limit='2GB')\n",
    "\n",
    "client = Client(cluster)\n",
    "\n",
    "# print dask dashboard link\n",
    "print(client.dashboard_link)"
   ]
  },
  {
   "attachments": {},
   "cell_type": "markdown",
   "metadata": {},
   "source": [
    "# Download historical stock data"
   ]
  },
  {
   "cell_type": "code",
   "execution_count": 3,
   "metadata": {},
   "outputs": [],
   "source": [
    "# check today's date and check if its market holiday\n",
    "def check_market_holiday():\n",
    "    today = pd.to_datetime('today').date()\n",
    "    india_holidays = holidays.India()\n",
    "    if today in india_holidays:\n",
    "        return True\n",
    "    else:\n",
    "        return False\n",
    "\n",
    "# get the stock data from yahoo finance if its not a market holiday\n",
    "def get_stock_data(stock_code, latest=True):\n",
    "    if check_market_holiday():\n",
    "        print('Market Holiday')\n",
    "        return None\n",
    "    else:\n",
    "        # check if its a valid stock code and not a market holiday\n",
    "        if nse.is_valid_code(stock_code) and check_market_holiday() == False:\n",
    "            # create a filename for stock data\n",
    "            stock_file = f'historical\\{stock_code}.xlsx'\n",
    "            \n",
    "            # create empty dataframe for stock data\n",
    "            stock_data = pd.DataFrame()\n",
    "            start_date = None\n",
    "            \n",
    "            # check if stock_file exists\n",
    "            if os.path.exists(stock_file):\n",
    "                # load existing stock data from excel file\n",
    "                stock_data = pd.read_excel(f'historical\\{stock_code}.xlsx', index_col='Date')\n",
    "                \n",
    "                if len(stock_data) == 0:\n",
    "                    print(f'No Stock Data for {stock_code}')\n",
    "                    # calculate start date to date from last date\n",
    "                    start_date = date.today() - timedelta(days=365*2)\n",
    "                else:\n",
    "                    # return stock_data if latest is False\n",
    "                    if latest == False:\n",
    "                        return stock_data\n",
    "                    \n",
    "                    # get the last date from the stock data\n",
    "                    last_date = stock_data.index[-1]\n",
    "                    \n",
    "                    # check if last_date is today\n",
    "                    if last_date == pd.to_datetime('today').date():\n",
    "                        print(f'{stock_code}: Stock Data is up to date')\n",
    "                        return stock_data\n",
    "            \n",
    "                    # calculate start date to date from last date\n",
    "                    start_date = last_date + timedelta(days=1)\n",
    "                    \n",
    "                    # convert start_date to datetime.date\n",
    "                    start_date = start_date.date()\n",
    "                    \n",
    "            # print(f'Getting Stock Data for {stock_code} from {start_date} to {date.today()}')\n",
    "            \n",
    "            # if there is no start_date, create a start_date that is 2 years ago\n",
    "            if start_date == None:\n",
    "                start_date = date.today() - timedelta(days=365*2)\n",
    "            \n",
    "            # get the stock data\n",
    "            new_stock_data = get_history(symbol=stock_code, start=start_date, end=date.today())\n",
    "            \n",
    "            # append the stock data to existing stock data\n",
    "            stock_data = stock_data.append(new_stock_data)\n",
    "            \n",
    "            # return stock_data\n",
    "            return stock_data\n",
    "        else:\n",
    "            print('Invalid Stock Code')\n",
    "            \n",
    "\n",
    "# get_stock_data('SBIN')"
   ]
  },
  {
   "attachments": {},
   "cell_type": "markdown",
   "metadata": {},
   "source": [
    "# Download all stocks"
   ]
  },
  {
   "cell_type": "code",
   "execution_count": 25,
   "metadata": {},
   "outputs": [
    {
     "data": {
      "text/html": [
       "<div>\n",
       "<style scoped>\n",
       "    .dataframe tbody tr th:only-of-type {\n",
       "        vertical-align: middle;\n",
       "    }\n",
       "\n",
       "    .dataframe tbody tr th {\n",
       "        vertical-align: top;\n",
       "    }\n",
       "\n",
       "    .dataframe thead th {\n",
       "        text-align: right;\n",
       "    }\n",
       "</style>\n",
       "<table border=\"1\" class=\"dataframe\">\n",
       "  <thead>\n",
       "    <tr style=\"text-align: center;\">\n",
       "      <th></th>\n",
       "      <th>ticker</th>\n",
       "      <th>company_name</th>\n",
       "      <th>loaded</th>\n",
       "    </tr>\n",
       "  </thead>\n",
       "  <tbody>\n",
       "    <tr>\n",
       "      <th>0</th>\n",
       "      <td>20MICRONS</td>\n",
       "      <td>20 Microns Limited</td>\n",
       "      <td>False</td>\n",
       "    </tr>\n",
       "    <tr>\n",
       "      <th>1</th>\n",
       "      <td>21STCENMGM</td>\n",
       "      <td>21st Century Management Services Limited</td>\n",
       "      <td>False</td>\n",
       "    </tr>\n",
       "    <tr>\n",
       "      <th>2</th>\n",
       "      <td>360ONE</td>\n",
       "      <td>360 ONE WAM LIMITED</td>\n",
       "      <td>False</td>\n",
       "    </tr>\n",
       "  </tbody>\n",
       "</table>\n",
       "</div>"
      ],
      "text/plain": [
       "     ticker                  company_name                loaded\n",
       "0   20MICRONS                        20 Microns Limited   False\n",
       "1  21STCENMGM  21st Century Management Services Limited   False\n",
       "2      360ONE                       360 ONE WAM LIMITED   False"
      ]
     },
     "metadata": {},
     "output_type": "display_data"
    },
    {
     "name": "stdout",
     "output_type": "stream",
     "text": [
      "No Stock Data for 3IINFOLTD\n",
      "No Stock Data for 4THDIM\n",
      "No Stock Data for AAATECH\n",
      "No Stock Data for AARTIPHARM\n"
     ]
    }
   ],
   "source": [
    "# write a function to load the data from excel file\n",
    "STOCK_FILE = 'data\\stock_codes.xlsx'\n",
    "\n",
    "# check if stock data exists\n",
    "def is_stock_data_loaded(stock_code, latest=True):\n",
    "    stock_data = get_stock_data(stock_code, latest=latest)\n",
    "\n",
    "    if stock_data is None or len(stock_data) == 0:\n",
    "        return False\n",
    "    return True\n",
    "\n",
    "# load historical stock data\n",
    "def load_stock_codes(stock_file=STOCK_FILE):\n",
    "    # read stock_file into pandas dataframe\n",
    "    df_stock_codes = pd.read_excel(stock_file)\n",
    "\n",
    "    # add a new column 'loaded' to stock_codes\n",
    "    df_stock_codes['loaded'] = False\n",
    "\n",
    "    # display the count of stock_codes\n",
    "    print(f'Total Stock Codes: {len(df_stock_codes)}')\n",
    "\n",
    "    # assign a new column 'loaded' on column 'ticker'\n",
    "    df_stock_codes['loaded'] = df_stock_codes['ticker'].apply(is_stock_data_loaded)\n",
    "\n",
    "    # display the count of stock codes loaded\n",
    "    print(f'Total Stock Codes Loaded: {df_stock_codes[\"loaded\"].value_counts()}')\n",
    "\n",
    "\n",
    "load_stock_codes()\n"
   ]
  }
 ],
 "metadata": {
  "kernelspec": {
   "display_name": ".venv",
   "language": "python",
   "name": "python3"
  },
  "language_info": {
   "codemirror_mode": {
    "name": "ipython",
    "version": 3
   },
   "file_extension": ".py",
   "mimetype": "text/x-python",
   "name": "python",
   "nbconvert_exporter": "python",
   "pygments_lexer": "ipython3",
   "version": "3.11.0"
  },
  "orig_nbformat": 4,
  "vscode": {
   "interpreter": {
    "hash": "16d3757ee6f5959b3986d80ea9be05cebd71188baec53b756b692b8d1f4aaacc"
   }
  }
 },
 "nbformat": 4,
 "nbformat_minor": 2
}
